{
 "cells": [
  {
   "cell_type": "code",
   "execution_count": 1,
   "metadata": {},
   "outputs": [],
   "source": [
    "import pandas as pd\n",
    "import numpy as np\n",
    "import matplotlib.pyplot as plt\n",
    "from mpl_toolkits.mplot3d import Axes3D\n",
    "import seaborn as sns"
   ]
  },
  {
   "cell_type": "code",
   "execution_count": 2,
   "metadata": {},
   "outputs": [],
   "source": [
    "df = pd.read_csv('watch_test2_sample.csv')\n",
    "df['uts'] = pd.to_datetime(df['uts'])"
   ]
  },
  {
   "cell_type": "code",
   "execution_count": 3,
   "metadata": {},
   "outputs": [],
   "source": [
    "df = df.drop_duplicates()"
   ]
  },
  {
   "cell_type": "code",
   "execution_count": 4,
   "metadata": {},
   "outputs": [],
   "source": [
    "df = df.set_index('uts')\n",
    "df = df.fillna(df.mean())"
   ]
  },
  {
   "cell_type": "code",
   "execution_count": 5,
   "metadata": {},
   "outputs": [
    {
     "data": {
      "text/html": [
       "<div>\n",
       "<style scoped>\n",
       "    .dataframe tbody tr th:only-of-type {\n",
       "        vertical-align: middle;\n",
       "    }\n",
       "\n",
       "    .dataframe tbody tr th {\n",
       "        vertical-align: top;\n",
       "    }\n",
       "\n",
       "    .dataframe thead th {\n",
       "        text-align: right;\n",
       "    }\n",
       "</style>\n",
       "<table border=\"1\" class=\"dataframe\">\n",
       "  <thead>\n",
       "    <tr style=\"text-align: right;\">\n",
       "      <th></th>\n",
       "      <th>accelerateX</th>\n",
       "      <th>accelerateY</th>\n",
       "      <th>accelerateZ</th>\n",
       "    </tr>\n",
       "    <tr>\n",
       "      <th>uts</th>\n",
       "      <th></th>\n",
       "      <th></th>\n",
       "      <th></th>\n",
       "    </tr>\n",
       "  </thead>\n",
       "  <tbody>\n",
       "    <tr>\n",
       "      <td>2018-11-18 08:18:41+07:00</td>\n",
       "      <td>-3.957379</td>\n",
       "      <td>-14.204506</td>\n",
       "      <td>2.303692</td>\n",
       "    </tr>\n",
       "    <tr>\n",
       "      <td>2018-11-18 08:19:03+07:00</td>\n",
       "      <td>-0.038236</td>\n",
       "      <td>-1.156625</td>\n",
       "      <td>1.883101</td>\n",
       "    </tr>\n",
       "    <tr>\n",
       "      <td>2018-11-18 08:19:45+07:00</td>\n",
       "      <td>1.906998</td>\n",
       "      <td>-4.394027</td>\n",
       "      <td>-4.358852</td>\n",
       "    </tr>\n",
       "    <tr>\n",
       "      <td>2018-11-18 08:20:13+07:00</td>\n",
       "      <td>-0.265259</td>\n",
       "      <td>-10.149148</td>\n",
       "      <td>3.042116</td>\n",
       "    </tr>\n",
       "    <tr>\n",
       "      <td>2018-11-18 08:20:33+07:00</td>\n",
       "      <td>-2.098175</td>\n",
       "      <td>-11.195846</td>\n",
       "      <td>1.754056</td>\n",
       "    </tr>\n",
       "    <tr>\n",
       "      <td>...</td>\n",
       "      <td>...</td>\n",
       "      <td>...</td>\n",
       "      <td>...</td>\n",
       "    </tr>\n",
       "    <tr>\n",
       "      <td>2018-11-18 16:07:32+07:00</td>\n",
       "      <td>4.803340</td>\n",
       "      <td>0.050184</td>\n",
       "      <td>-8.263658</td>\n",
       "    </tr>\n",
       "    <tr>\n",
       "      <td>2018-11-18 16:07:58+07:00</td>\n",
       "      <td>1.780343</td>\n",
       "      <td>-6.609970</td>\n",
       "      <td>2.081448</td>\n",
       "    </tr>\n",
       "    <tr>\n",
       "      <td>2018-11-18 16:08:19+07:00</td>\n",
       "      <td>0.399084</td>\n",
       "      <td>-8.364026</td>\n",
       "      <td>-5.357756</td>\n",
       "    </tr>\n",
       "    <tr>\n",
       "      <td>2018-11-18 16:08:42+07:00</td>\n",
       "      <td>0.745593</td>\n",
       "      <td>-8.820463</td>\n",
       "      <td>-5.106835</td>\n",
       "    </tr>\n",
       "    <tr>\n",
       "      <td>2018-11-18 16:09:04+07:00</td>\n",
       "      <td>0.480334</td>\n",
       "      <td>-8.700976</td>\n",
       "      <td>-4.669516</td>\n",
       "    </tr>\n",
       "  </tbody>\n",
       "</table>\n",
       "<p>271 rows × 3 columns</p>\n",
       "</div>"
      ],
      "text/plain": [
       "                           accelerateX  accelerateY  accelerateZ\n",
       "uts                                                             \n",
       "2018-11-18 08:18:41+07:00    -3.957379   -14.204506     2.303692\n",
       "2018-11-18 08:19:03+07:00    -0.038236    -1.156625     1.883101\n",
       "2018-11-18 08:19:45+07:00     1.906998    -4.394027    -4.358852\n",
       "2018-11-18 08:20:13+07:00    -0.265259   -10.149148     3.042116\n",
       "2018-11-18 08:20:33+07:00    -2.098175   -11.195846     1.754056\n",
       "...                                ...          ...          ...\n",
       "2018-11-18 16:07:32+07:00     4.803340     0.050184    -8.263658\n",
       "2018-11-18 16:07:58+07:00     1.780343    -6.609970     2.081448\n",
       "2018-11-18 16:08:19+07:00     0.399084    -8.364026    -5.357756\n",
       "2018-11-18 16:08:42+07:00     0.745593    -8.820463    -5.106835\n",
       "2018-11-18 16:09:04+07:00     0.480334    -8.700976    -4.669516\n",
       "\n",
       "[271 rows x 3 columns]"
      ]
     },
     "execution_count": 5,
     "metadata": {},
     "output_type": "execute_result"
    }
   ],
   "source": [
    "accelerator_df = df[['accelerateX', 'accelerateY', 'accelerateZ']].copy()\n",
    "accelerator_df"
   ]
  },
  {
   "cell_type": "code",
   "execution_count": 6,
   "metadata": {},
   "outputs": [],
   "source": [
    "accelerator_df -= accelerator_df.mean()"
   ]
  },
  {
   "cell_type": "code",
   "execution_count": 7,
   "metadata": {},
   "outputs": [
    {
     "data": {
      "text/plain": [
       "accelerateX   -1.133165e-15\n",
       "accelerateY    6.030437e-16\n",
       "accelerateZ    8.652365e-16\n",
       "dtype: float64"
      ]
     },
     "execution_count": 7,
     "metadata": {},
     "output_type": "execute_result"
    }
   ],
   "source": [
    "accelerator_df.mean()"
   ]
  },
  {
   "cell_type": "code",
   "execution_count": 8,
   "metadata": {},
   "outputs": [],
   "source": [
    "accelerator = accelerator_df.to_numpy()"
   ]
  },
  {
   "cell_type": "code",
   "execution_count": 9,
   "metadata": {},
   "outputs": [
    {
     "data": {
      "text/plain": [
       "array([[25.4476783 ,  3.15359882, -1.82430517],\n",
       "       [ 3.15359882, 23.14423757,  7.02704944],\n",
       "       [-1.82430517,  7.02704944, 19.5368561 ]])"
      ]
     },
     "execution_count": 9,
     "metadata": {},
     "output_type": "execute_result"
    }
   ],
   "source": [
    "cov = accelerator.T.dot(accelerator)/(len(accelerator) - 1)\n",
    "cov"
   ]
  },
  {
   "cell_type": "code",
   "execution_count": 10,
   "metadata": {},
   "outputs": [
    {
     "data": {
      "text/plain": [
       "(array([13.15046863, 25.75818909, 29.22011425]),\n",
       " array([[ 0.26701286, -0.87106272,  0.41225462],\n",
       "        [-0.60926567,  0.17885949,  0.77253131],\n",
       "        [ 0.74665888,  0.45744838,  0.48295082]]))"
      ]
     },
     "execution_count": 10,
     "metadata": {},
     "output_type": "execute_result"
    }
   ],
   "source": [
    "eigen_values, eigen_vectors = np.linalg.eig(cov)\n",
    "eigen_values, eigen_vectors "
   ]
  },
  {
   "cell_type": "code",
   "execution_count": 11,
   "metadata": {},
   "outputs": [
    {
     "data": {
      "text/plain": [
       "(array([29.22011425, 25.75818909, 13.15046863]),\n",
       " array([[ 0.41225462, -0.87106272,  0.26701286],\n",
       "        [ 0.77253131,  0.17885949, -0.60926567],\n",
       "        [ 0.48295082,  0.45744838,  0.74665888]]))"
      ]
     },
     "execution_count": 11,
     "metadata": {},
     "output_type": "execute_result"
    }
   ],
   "source": [
    "sorted_indexes = np.argsort(eigen_values)[::-1]\n",
    "eigen_values = eigen_values[sorted_indexes]\n",
    "eigen_vectors = eigen_vectors[:, sorted_indexes]\n",
    "eigen_values, eigen_vectors"
   ]
  },
  {
   "cell_type": "code",
   "execution_count": 12,
   "metadata": {},
   "outputs": [
    {
     "data": {
      "text/plain": [
       "<BarContainer object of 3 artists>"
      ]
     },
     "execution_count": 12,
     "metadata": {},
     "output_type": "execute_result"
    },
    {
     "data": {
      "image/png": "[encoded data removed]",
      "text/plain": [
       "<Figure size 432x288 with 1 Axes>"
      ]
     },
     "metadata": {
      "needs_background": "light"
     },
     "output_type": "display_data"
    }
   ],
   "source": [
    "plt.bar(np.arange(len(eigen_values)), eigen_values)"
   ]
  },
  {
   "cell_type": "code",
   "execution_count": 13,
   "metadata": {},
   "outputs": [
    {
     "data": {
      "text/plain": [
       "array([5.40556327, 5.07525261, 3.62635749])"
      ]
     },
     "execution_count": 13,
     "metadata": {},
     "output_type": "execute_result"
    }
   ],
   "source": [
    "np.sqrt(eigen_values)"
   ]
  },
  {
   "cell_type": "code",
   "execution_count": 14,
   "metadata": {},
   "outputs": [
    {
     "data": {
      "text/plain": [
       "array([[ 2.22846844, -4.70858464,  1.44335491],\n",
       "       [ 3.92079157,  0.9077571 , -3.09217717],\n",
       "       [ 1.75135233,  1.65887137,  2.70765201]])"
      ]
     },
     "execution_count": 14,
     "metadata": {},
     "output_type": "execute_result"
    }
   ],
   "source": [
    "eigen_vectors = (eigen_vectors.T * np.sqrt(eigen_values)).T\n",
    "eigen_vectors"
   ]
  },
  {
   "cell_type": "code",
   "execution_count": 15,
   "metadata": {},
   "outputs": [],
   "source": [
    "scale = 2\n",
    "ev1, ev2, ev3 = eigen_vectors.T * scale"
   ]
  },
  {
   "cell_type": "code",
   "execution_count": 17,
   "metadata": {},
   "outputs": [
    {
     "data": {
      "image/png": "[encoded data removed]",
      "text/plain": [
       "<Figure size 3600x720 with 1 Axes>"
      ]
     },
     "metadata": {
      "needs_background": "light"
     },
     "output_type": "display_data"
    }
   ],
   "source": [
    "fig = plt.figure(figsize=(50, 10))\n",
    "\n",
    "ax = fig.add_subplot(141, projection='3d')\n",
    "\n",
    "ax.plot(accelerator[:, 0],accelerator[:, 1],accelerator[:, 2],'o',markersize=10,color='green',alpha=0.2)\n",
    "\n",
    "ax.plot([df['accelerateX'].mean()],[df['accelerateY'].mean()],[df['accelerateZ'].mean()],'o',markersize=10,color='red'\n",
    "        ,alpha=0.5)\n",
    "\n",
    "ax.plot([0, ev1[0]], [0, ev1[1]], [0, ev1[2]],color='red', alpha=0.8, lw=2)\n",
    "ax.plot([0, ev2[0]], [0, ev2[1]], [0, ev2[2]],color='violet', alpha=0.8, lw=2)\n",
    "ax.plot([0, ev3[0]], [0, ev3[1]], [0, ev3[2]],color='cyan', alpha=0.8, lw=2)\n",
    "\n",
    "ax.set_xlabel('x_values')\n",
    "ax.set_ylabel('y_values')\n",
    "ax.set_zlabel('z_values')\n",
    "\n",
    "plt.title('Eigenvector')\n",
    "\n",
    "ax.view_init(10, 60)\n",
    "\n",
    "plt.show()"
   ]
  },
  {
   "cell_type": "code",
   "execution_count": 18,
   "metadata": {},
   "outputs": [
    {
     "data": {
      "text/plain": [
       "array([[-5.37811822e+01,  1.49013734e+01],\n",
       "       [ 5.37392288e+00,  7.59435471e+00],\n",
       "       [-1.39162216e+01, -1.48583130e+01],\n",
       "       [-2.83599554e+01,  2.42294504e+00],\n",
       "       [-3.88042832e+01,  7.96651355e+00],\n",
       "       [-5.21090850e+01,  4.66019934e+01],\n",
       "       [ 1.83454424e+01, -1.31337096e+01],\n",
       "       [-5.67352295e+01,  9.60914170e+01],\n",
       "       [-2.55461835e+01,  5.46388549e+01],\n",
       "       [-2.25228300e+01,  5.60560563e+00],\n",
       "       [ 1.22171468e+00,  1.06332249e+01],\n",
       "       [-3.69782231e+01,  2.61911370e+01],\n",
       "       [ 1.07145241e+01,  1.06019548e+00],\n",
       "       [-1.68749714e+01,  1.98803977e+00],\n",
       "       [ 3.51453509e+01, -1.84538192e+01],\n",
       "       [-1.20574507e+01,  3.78674641e+01],\n",
       "       [-3.75640957e+01,  9.23175298e+01],\n",
       "       [-9.81386740e+00,  7.20369008e+01],\n",
       "       [-2.40529866e+01,  4.55844588e+01],\n",
       "       [-2.25621409e+01, -1.66823454e+01],\n",
       "       [-1.87255970e+01, -9.60367260e+00],\n",
       "       [ 9.29799494e-15,  3.82256116e-15],\n",
       "       [-5.98755972e+00,  1.59422772e+01],\n",
       "       [-1.44318073e+01,  1.44290282e+00],\n",
       "       [-1.44318073e+01,  1.44290282e+00],\n",
       "       [-7.55751042e+01,  3.10109761e+01],\n",
       "       [-9.69943057e+01,  2.45708406e+01],\n",
       "       [-3.14642191e+01,  4.77870467e+01],\n",
       "       [-2.42663490e+01,  1.35743118e+00],\n",
       "       [-1.87108358e+01,  5.00262433e+00],\n",
       "       [-3.50755831e+01,  1.95723774e+01],\n",
       "       [-2.37327436e+01,  7.82620287e+01],\n",
       "       [-6.51125549e+01, -7.89666298e+00],\n",
       "       [-1.17922250e+01,  3.55962764e+00],\n",
       "       [-5.00690002e+01,  8.05303872e+01],\n",
       "       [-2.47032492e+01,  6.65760955e+01],\n",
       "       [ 3.04722599e+01,  6.17133248e+00],\n",
       "       [ 2.47605432e+01,  1.30833621e+01],\n",
       "       [ 2.45648811e+01,  1.41962162e+01],\n",
       "       [ 2.13211689e+01,  1.40115592e+01],\n",
       "       [ 2.58859624e+01,  9.95353350e+00],\n",
       "       [ 2.88648766e+01,  1.30628544e+01],\n",
       "       [ 2.99232262e+01,  1.45464409e+01],\n",
       "       [ 3.07770735e+01,  1.47994943e+01],\n",
       "       [ 3.03444965e+01,  1.50069924e+01],\n",
       "       [ 3.74264705e+01,  1.93305648e+01],\n",
       "       [ 2.27534004e+01,  1.70104704e+00],\n",
       "       [ 9.10410443e+00,  5.64583913e+01],\n",
       "       [ 3.65297095e+01,  2.37245735e+01],\n",
       "       [-1.08695887e+01,  5.29181026e+01],\n",
       "       [-1.23101394e+01,  5.24753284e+01],\n",
       "       [-1.31532834e+01,  5.27980332e+01],\n",
       "       [ 3.57863815e+01,  1.28746011e+01],\n",
       "       [ 3.38400254e+01,  1.15120812e+01],\n",
       "       [ 3.23006152e+01,  1.24430375e+01],\n",
       "       [ 3.20000469e+01,  1.24448907e+01],\n",
       "       [-1.52100376e+01, -1.24016573e+01],\n",
       "       [ 1.80718275e+01,  9.69309736e+00],\n",
       "       [ 1.97341565e+01,  9.59857786e+00],\n",
       "       [ 3.82171126e+01, -3.34778651e+01],\n",
       "       [ 2.53872456e+01,  1.52681685e+01],\n",
       "       [ 2.74137038e+01,  1.50409892e+01],\n",
       "       [-1.01089821e+01, -1.78808105e+01],\n",
       "       [ 4.60911615e+01, -2.20755054e+01],\n",
       "       [-2.55926132e+01, -1.40142835e+01],\n",
       "       [ 3.10787880e+01,  1.75851239e+01],\n",
       "       [ 2.73089209e+01,  1.81949615e+01],\n",
       "       [-1.57687970e+01,  5.47118118e+01],\n",
       "       [ 4.42850493e+01, -2.65781258e+01],\n",
       "       [ 3.13782734e+01,  7.34023098e+00],\n",
       "       [ 1.57700059e+01, -2.19557505e+01],\n",
       "       [ 9.51113848e+00, -5.97517488e+00],\n",
       "       [ 8.43342082e+00, -1.17164476e+01],\n",
       "       [ 6.83603599e+00,  8.31430074e-02],\n",
       "       [ 9.37664365e+00,  1.33709070e+01],\n",
       "       [ 1.61160077e+01,  1.71087832e+01],\n",
       "       [ 9.13114707e+00,  1.05982932e+01],\n",
       "       [-2.95446618e+01, -7.25006757e+00],\n",
       "       [-3.05003066e+01, -7.82167837e+00],\n",
       "       [-2.94312019e+01, -6.13222114e+00],\n",
       "       [-2.80650621e+01, -5.06604542e+00],\n",
       "       [-2.84247388e+01, -5.16423606e+00],\n",
       "       [-2.91384730e+01, -2.49101941e+00],\n",
       "       [-2.83450002e+01, -2.01522952e+00],\n",
       "       [ 4.03271297e+01, -2.95561317e+01],\n",
       "       [ 4.08317694e+01, -3.17628699e+01],\n",
       "       [ 1.35246438e+01,  7.83892214e+00],\n",
       "       [ 8.32574909e+00,  7.63273325e+00],\n",
       "       [ 1.90695927e+01, -5.97971803e+00],\n",
       "       [ 3.05552204e+01,  6.94208111e+00],\n",
       "       [-7.07011279e-01,  1.39675867e+01],\n",
       "       [ 1.38035271e+01, -2.70816447e+00],\n",
       "       [ 4.77014128e+01, -2.24251119e+01],\n",
       "       [ 3.00898823e+01, -3.41160094e+01],\n",
       "       [ 2.94119784e+01, -3.36396222e+01],\n",
       "       [ 4.44254076e+01, -2.57360804e+01],\n",
       "       [ 4.56143027e+01, -2.37841032e+01],\n",
       "       [ 2.48415855e+01, -3.79745598e+01],\n",
       "       [ 3.33679747e+01, -3.48685287e+01],\n",
       "       [ 2.69763207e+01, -3.83463021e+01],\n",
       "       [ 3.13726795e+01, -3.36930881e+01],\n",
       "       [ 3.12464751e+01, -3.78749215e+01],\n",
       "       [ 3.14578651e+01, -3.81730074e+01],\n",
       "       [ 2.02374349e+01, -3.84155288e+01],\n",
       "       [ 1.91437576e+01, -4.17028796e+01],\n",
       "       [ 1.85239874e+01, -3.87955394e+01],\n",
       "       [ 2.07295176e+01, -4.06170822e+01],\n",
       "       [-1.01689471e+01, -3.13623395e+01],\n",
       "       [ 4.06664330e+01,  2.69460854e+00],\n",
       "       [ 3.79971428e+01,  2.12831520e+01],\n",
       "       [-1.35911682e+01,  3.69713911e+01],\n",
       "       [-2.10759939e+01,  4.85200229e+01],\n",
       "       [ 1.85196008e+01,  1.74279652e+01],\n",
       "       [ 2.47165908e+01,  8.41806445e-03],\n",
       "       [-7.88400279e+00,  2.49726632e+01],\n",
       "       [-1.80143549e+01, -1.93394175e+01],\n",
       "       [-1.77038601e+01, -1.92039789e+01],\n",
       "       [-2.33137335e+01, -4.88156729e+00],\n",
       "       [-3.58747136e+00, -2.37689979e+01],\n",
       "       [ 1.90125277e+01, -2.65939963e+01],\n",
       "       [ 1.35407780e+01, -3.50742398e+01],\n",
       "       [ 2.70702331e+01, -3.02140616e+01],\n",
       "       [ 3.96509980e+01, -2.30027931e+01],\n",
       "       [ 4.03681547e+01, -2.27093849e+01],\n",
       "       [ 3.76474322e+01, -2.70045365e+01],\n",
       "       [ 9.29799494e-15,  3.82256116e-15],\n",
       "       [-1.37009172e+01,  4.83722233e+01],\n",
       "       [-1.37613963e+01,  4.84939554e+01],\n",
       "       [ 2.92034855e+01,  3.26499266e+01],\n",
       "       [-4.81467968e+00,  4.89498859e+01],\n",
       "       [-2.17370182e+01, -1.22639675e+01],\n",
       "       [-1.01068269e+01, -8.09784049e+00],\n",
       "       [ 8.74095500e+00, -3.33910899e+01],\n",
       "       [-2.23183254e+01, -9.85712581e+00],\n",
       "       [-2.02854601e+01, -1.14676077e+01],\n",
       "       [-2.22879942e+01, -1.04209218e+01],\n",
       "       [-1.89049202e+01, -9.95067751e+00],\n",
       "       [-1.98325890e+01, -8.55294055e+00],\n",
       "       [-1.97250432e+01, -5.05642178e+00],\n",
       "       [-1.13229544e+01, -1.64985590e+01],\n",
       "       [-2.04136748e+01, -1.04281045e+01],\n",
       "       [-1.68009191e+01, -9.96159341e+00],\n",
       "       [-1.82568470e+01, -9.60691964e+00],\n",
       "       [-1.16039569e+00, -2.88019087e+01],\n",
       "       [-4.79456518e+00, -2.68155486e+01],\n",
       "       [-2.20300879e+01, -7.62268733e+00],\n",
       "       [-2.17247456e+01,  3.84208318e+01],\n",
       "       [-1.51434937e+01,  5.15675262e+01],\n",
       "       [ 2.62471325e+01,  1.32413338e+01],\n",
       "       [ 2.32704848e+01,  3.10460157e+00],\n",
       "       [ 4.60196209e+00, -2.05361122e+01],\n",
       "       [-1.63756941e+01, -1.11165232e+01],\n",
       "       [ 1.82723076e+01,  1.01775035e+01],\n",
       "       [ 1.30602975e+01,  8.96643783e+00],\n",
       "       [ 2.48429890e+01,  1.49008184e+01],\n",
       "       [ 3.24338754e+01,  2.30348312e+01],\n",
       "       [ 3.36250522e+01,  1.68787385e+01],\n",
       "       [ 3.05535711e+01,  1.53835135e+01],\n",
       "       [ 1.84777676e+01, -4.48239794e+00],\n",
       "       [ 2.81164315e+01,  1.80063860e+01],\n",
       "       [-1.89796584e+01, -1.11793683e+01],\n",
       "       [-1.88529923e+01, -7.82981700e+00],\n",
       "       [-2.02536349e+01, -9.42536328e+00],\n",
       "       [-2.01913714e+01, -8.84863991e+00],\n",
       "       [-2.04879325e+01, -9.25235499e+00],\n",
       "       [-2.22668635e+01, -7.59316472e+00],\n",
       "       [ 1.86494593e+01,  9.42508393e+00],\n",
       "       [ 3.33386288e+01,  1.25160718e+01],\n",
       "       [ 3.30201562e+01,  1.90045257e+01],\n",
       "       [ 1.24765986e+01, -8.92332423e+00],\n",
       "       [-1.96401501e+00, -4.19600640e+00],\n",
       "       [ 2.06282519e+01,  4.20649386e-01],\n",
       "       [ 2.92382690e+01,  1.10053542e+01],\n",
       "       [-7.98639904e+00, -6.53959043e+00],\n",
       "       [ 3.16816937e+01,  2.03091410e+01],\n",
       "       [ 1.70939896e+01,  1.11078082e+01],\n",
       "       [-1.09892612e+01, -1.24746034e+00],\n",
       "       [ 2.76617361e+01,  9.61558698e+00],\n",
       "       [-1.65202102e+00, -2.18501082e+00],\n",
       "       [ 2.35053799e+01,  9.89279231e+00],\n",
       "       [-2.88539477e+00, -6.28336482e-01],\n",
       "       [-1.31525406e+01, -2.08745835e+01],\n",
       "       [ 1.15093827e+01, -2.99435210e+01],\n",
       "       [-9.05870480e+00,  5.34473452e+00],\n",
       "       [-9.44617078e+00,  5.33853438e-01],\n",
       "       [-1.35742639e+01, -1.17557734e+00],\n",
       "       [ 1.94855089e+01,  1.36056886e+01],\n",
       "       [-1.74563822e+01, -1.37482533e+01],\n",
       "       [ 1.08756667e+01, -2.02810774e+01],\n",
       "       [-1.58565184e+00,  2.99236449e+00],\n",
       "       [ 2.57989605e+01, -3.30134592e+01],\n",
       "       [ 1.92016341e+01,  1.75478238e+01],\n",
       "       [ 2.34365287e+01,  1.04172127e+01],\n",
       "       [-2.53686751e-01, -6.35224799e+00],\n",
       "       [ 1.88536896e+01,  6.77835929e+00],\n",
       "       [ 1.70449040e+00, -1.64808133e+00],\n",
       "       [-1.56691901e+01,  3.88595808e-01],\n",
       "       [ 3.34075899e+01,  2.07729926e+01],\n",
       "       [ 2.54131431e+01, -1.84246161e+01],\n",
       "       [ 2.31798795e+01,  1.78328509e+01],\n",
       "       [ 2.91310851e+01,  2.63628894e+01],\n",
       "       [ 6.83300869e+00,  3.58819497e+00],\n",
       "       [-8.36630304e+00, -3.07241767e+00],\n",
       "       [-3.38245744e+01, -2.31733190e+00],\n",
       "       [-1.07057083e+01, -8.15470411e+00],\n",
       "       [-1.04485053e+00, -7.35351049e+00],\n",
       "       [-1.04485053e+00, -7.35351049e+00],\n",
       "       [-2.72510832e+00, -1.54155249e+00],\n",
       "       [-4.16487168e+00, -3.20113752e+00],\n",
       "       [-1.86926533e+00, -3.15436266e-02],\n",
       "       [ 4.05536376e+01, -2.00940523e+01],\n",
       "       [-5.46059920e+00, -1.81874879e+01],\n",
       "       [-8.86854841e+00, -3.03861492e+01],\n",
       "       [-1.47824356e+01, -4.04488805e+00],\n",
       "       [ 1.21198863e+01,  6.40529475e+00],\n",
       "       [ 4.70572243e+01, -1.94976896e+01],\n",
       "       [ 4.29598004e+01,  1.22732341e+00],\n",
       "       [ 1.08341712e+00,  8.34637068e-01],\n",
       "       [ 1.82101274e+00, -4.70328027e+00],\n",
       "       [ 2.60287756e+01,  1.16066449e+01],\n",
       "       [-2.42210288e+01, -1.66356966e+01],\n",
       "       [-1.31350028e+01, -3.34671759e+01],\n",
       "       [-3.25516322e+01, -1.17057440e+01],\n",
       "       [-3.20517535e+01, -1.17999148e+01],\n",
       "       [-3.19571172e+01, -1.13190782e+01],\n",
       "       [-3.13580135e+01, -1.21451400e+01],\n",
       "       [-2.53009849e+01, -1.35713484e+01],\n",
       "       [-1.75302406e+01, -2.26553010e+01],\n",
       "       [-3.14407517e+01, -5.67173950e+00],\n",
       "       [-3.31102271e+01, -1.25372368e+01],\n",
       "       [-2.62593301e+01, -1.45271260e+01],\n",
       "       [-3.62405677e+01, -9.44887985e+00],\n",
       "       [-3.34752273e+01, -1.70127583e+01],\n",
       "       [ 1.45681056e+00, -4.23720035e+01],\n",
       "       [-1.18944794e+01, -3.07651936e+01],\n",
       "       [ 3.60570360e+01, -3.44252176e+01],\n",
       "       [ 3.66898518e+01, -2.97128963e+01],\n",
       "       [ 3.75375922e+01, -2.87288714e+01],\n",
       "       [ 4.07019358e+01, -2.64464861e+01],\n",
       "       [-1.85387081e+01, -1.78853147e+01],\n",
       "       [-2.70518044e+01, -4.34891963e+00],\n",
       "       [-1.51247861e+01,  5.36766058e+01],\n",
       "       [-1.62761830e+01,  5.17353594e+01],\n",
       "       [-3.54445462e+01, -1.11935295e+01],\n",
       "       [ 3.00811805e+01,  2.90519863e+01],\n",
       "       [ 2.41975074e+00,  1.17773317e+01],\n",
       "       [-3.26361653e+01, -9.16505815e+00],\n",
       "       [-4.12189348e+01, -7.57391885e+00],\n",
       "       [-2.85090825e+01,  2.54493321e+00],\n",
       "       [-3.60436163e+01, -2.95782444e+00],\n",
       "       [-1.20280797e+01, -1.17098259e+01],\n",
       "       [ 1.67010928e+00,  6.29088592e+01],\n",
       "       [ 1.67010928e+00,  6.29088592e+01],\n",
       "       [-1.27940313e+01, -3.60811736e+01],\n",
       "       [-1.22176693e+01, -3.54062127e+01],\n",
       "       [-8.92902298e+00, -3.68981638e+01],\n",
       "       [-1.53422934e+01, -3.29085233e+01],\n",
       "       [-4.72849730e+00, -2.28551936e+01],\n",
       "       [-1.50062042e+01, -3.45889843e+01],\n",
       "       [-2.54275315e+01, -1.25695108e+01],\n",
       "       [ 9.29799494e-15,  3.82256116e-15],\n",
       "       [-1.10392196e+01, -3.30372313e+01],\n",
       "       [-1.88610608e+01, -3.14982073e+01],\n",
       "       [-2.20625587e+01, -3.57208361e+01],\n",
       "       [-3.42438721e+01, -1.68793632e+01],\n",
       "       [-3.27005989e+01, -1.80790549e+01],\n",
       "       [ 3.12432105e+00, -3.09392928e+01],\n",
       "       [-1.16074853e+01, -5.58985510e+00],\n",
       "       [-3.45915324e+01, -1.30190180e+01],\n",
       "       [-3.51694904e+01, -1.46486771e+01],\n",
       "       [-3.45262281e+01, -1.25657601e+01]])"
      ]
     },
     "execution_count": 18,
     "metadata": {},
     "output_type": "execute_result"
    }
   ],
   "source": [
    "K = 2\n",
    "pca = accelerator.dot( eigen_vectors[:, :K])\n",
    "pca"
   ]
  },
  {
   "cell_type": "code",
   "execution_count": 20,
   "metadata": {},
   "outputs": [
    {
     "data": {
      "text/plain": [
       "<matplotlib.axes._subplots.AxesSubplot at 0x1e2b732d7c8>"
      ]
     },
     "execution_count": 20,
     "metadata": {},
     "output_type": "execute_result"
    },
    {
     "data": {
      "image/png": "[encoded data removed]",
      "text/plain": [
       "<Figure size 432x288 with 2 Axes>"
      ]
     },
     "metadata": {
      "needs_background": "light"
     },
     "output_type": "display_data"
    }
   ],
   "source": [
    "sns.heatmap(pca)"
   ]
  },
  {
   "cell_type": "code",
   "execution_count": null,
   "metadata": {},
   "outputs": [],
   "source": []
  },
  {
   "cell_type": "code",
   "execution_count": null,
   "metadata": {},
   "outputs": [],
   "source": []
  }
 ],
 "metadata": {
  "kernelspec": {
   "display_name": "Python 3",
   "language": "python",
   "name": "python3"
  },
  "language_info": {
   "codemirror_mode": {
    "name": "ipython",
    "version": 3
   },
   "file_extension": ".py",
   "mimetype": "text/x-python",
   "name": "python",
   "nbconvert_exporter": "python",
   "pygments_lexer": "ipython3",
   "version": "3.7.4"
  }
 },
 "nbformat": 4,
 "nbformat_minor": 2
}

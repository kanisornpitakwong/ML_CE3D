{
 "cells": [
  {
   "cell_type": "code",
   "execution_count": 1,
   "metadata": {
    "colab": {
     "base_uri": "https://localhost:8080/",
     "height": 241
    },
    "colab_type": "code",
    "id": "_vZnGTcnKYWV",
    "outputId": "e0eb99d9-583c-47b6-8c96-053b66f6a09d"
   },
   "outputs": [
    {
     "name": "stdout",
     "output_type": "stream",
     "text": [
      "Requirement already satisfied: quandl in c:\\users\\kanis\\anaconda3\\lib\\site-packages (3.5.0)\n",
      "Requirement already satisfied: numpy>=1.8 in c:\\users\\kanis\\anaconda3\\lib\\site-packages (from quandl) (1.18.1)\n",
      "Requirement already satisfied: pandas>=0.14 in c:\\users\\kanis\\anaconda3\\lib\\site-packages (from quandl) (1.0.1)\n",
      "Requirement already satisfied: six in c:\\users\\kanis\\anaconda3\\lib\\site-packages (from quandl) (1.14.0)\n",
      "Requirement already satisfied: requests>=2.7.0 in c:\\users\\kanis\\anaconda3\\lib\\site-packages (from quandl) (2.22.0)\n",
      "Requirement already satisfied: inflection>=0.3.1 in c:\\users\\kanis\\anaconda3\\lib\\site-packages (from quandl) (0.3.1)\n",
      "Requirement already satisfied: more-itertools in c:\\users\\kanis\\anaconda3\\lib\\site-packages (from quandl) (8.2.0)\n",
      "Requirement already satisfied: python-dateutil in c:\\users\\kanis\\anaconda3\\lib\\site-packages (from quandl) (2.8.1)\n",
      "Requirement already satisfied: pytz>=2017.2 in c:\\users\\kanis\\anaconda3\\lib\\site-packages (from pandas>=0.14->quandl) (2019.3)\n",
      "Requirement already satisfied: idna<2.9,>=2.5 in c:\\users\\kanis\\anaconda3\\lib\\site-packages (from requests>=2.7.0->quandl) (2.8)\n",
      "Requirement already satisfied: urllib3!=1.25.0,!=1.25.1,<1.26,>=1.21.1 in c:\\users\\kanis\\anaconda3\\lib\\site-packages (from requests>=2.7.0->quandl) (1.25.8)\n",
      "Requirement already satisfied: chardet<3.1.0,>=3.0.2 in c:\\users\\kanis\\anaconda3\\lib\\site-packages (from requests>=2.7.0->quandl) (3.0.4)\n",
      "Requirement already satisfied: certifi>=2017.4.17 in c:\\users\\kanis\\anaconda3\\lib\\site-packages (from requests>=2.7.0->quandl) (2019.11.28)\n"
     ]
    }
   ],
   "source": [
    "!pip install quandl"
   ]
  },
  {
   "cell_type": "code",
   "execution_count": 2,
   "metadata": {
    "colab": {},
    "colab_type": "code",
    "id": "B1FA9RqCJiav"
   },
   "outputs": [],
   "source": [
    "# Stock data\n",
    "import quandl\n",
    "import datetime\n",
    "# Analyzing\n",
    "import numpy as np\n",
    "import pandas as pd\n",
    "import matplotlib.pyplot as plt\n",
    "from sklearn.linear_model import LinearRegression\n",
    "from sklearn.svm import SVR\n",
    "from sklearn import model_selection\n",
    "from sklearn import preprocessing\n",
    "from sklearn import metrics"
   ]
  },
  {
   "cell_type": "code",
   "execution_count": 3,
   "metadata": {
    "colab": {},
    "colab_type": "code",
    "id": "QFIVSiV_Jia0"
   },
   "outputs": [],
   "source": [
    "df = quandl.get(\"WIKI/GOOG\")"
   ]
  },
  {
   "cell_type": "code",
   "execution_count": 287,
   "metadata": {
    "colab": {
     "base_uri": "https://localhost:8080/",
     "height": 447
    },
    "colab_type": "code",
    "id": "_JGosn8nKoo8",
    "outputId": "6827c452-f63a-449b-a7a9-89304bedb439"
   },
   "outputs": [
    {
     "data": {
      "text/html": [
       "<div>\n",
       "<style scoped>\n",
       "    .dataframe tbody tr th:only-of-type {\n",
       "        vertical-align: middle;\n",
       "    }\n",
       "\n",
       "    .dataframe tbody tr th {\n",
       "        vertical-align: top;\n",
       "    }\n",
       "\n",
       "    .dataframe thead th {\n",
       "        text-align: right;\n",
       "    }\n",
       "</style>\n",
       "<table border=\"1\" class=\"dataframe\">\n",
       "  <thead>\n",
       "    <tr style=\"text-align: right;\">\n",
       "      <th></th>\n",
       "      <th>Open</th>\n",
       "      <th>High</th>\n",
       "      <th>Low</th>\n",
       "      <th>Close</th>\n",
       "      <th>Volume</th>\n",
       "      <th>Ex-Dividend</th>\n",
       "      <th>Split Ratio</th>\n",
       "      <th>Adj. Open</th>\n",
       "      <th>Adj. High</th>\n",
       "      <th>Adj. Low</th>\n",
       "      <th>Adj. Close</th>\n",
       "      <th>Adj. Volume</th>\n",
       "    </tr>\n",
       "    <tr>\n",
       "      <th>Date</th>\n",
       "      <th></th>\n",
       "      <th></th>\n",
       "      <th></th>\n",
       "      <th></th>\n",
       "      <th></th>\n",
       "      <th></th>\n",
       "      <th></th>\n",
       "      <th></th>\n",
       "      <th></th>\n",
       "      <th></th>\n",
       "      <th></th>\n",
       "      <th></th>\n",
       "    </tr>\n",
       "  </thead>\n",
       "  <tbody>\n",
       "    <tr>\n",
       "      <th>2014-03-27</th>\n",
       "      <td>568.000</td>\n",
       "      <td>568.00</td>\n",
       "      <td>552.92</td>\n",
       "      <td>558.46</td>\n",
       "      <td>13100.0</td>\n",
       "      <td>0.0</td>\n",
       "      <td>1.0</td>\n",
       "      <td>568.000</td>\n",
       "      <td>568.00</td>\n",
       "      <td>552.92</td>\n",
       "      <td>558.46</td>\n",
       "      <td>13100.0</td>\n",
       "    </tr>\n",
       "    <tr>\n",
       "      <th>2014-03-28</th>\n",
       "      <td>561.200</td>\n",
       "      <td>566.43</td>\n",
       "      <td>558.67</td>\n",
       "      <td>559.99</td>\n",
       "      <td>41100.0</td>\n",
       "      <td>0.0</td>\n",
       "      <td>1.0</td>\n",
       "      <td>561.200</td>\n",
       "      <td>566.43</td>\n",
       "      <td>558.67</td>\n",
       "      <td>559.99</td>\n",
       "      <td>41100.0</td>\n",
       "    </tr>\n",
       "    <tr>\n",
       "      <th>2014-03-31</th>\n",
       "      <td>566.890</td>\n",
       "      <td>567.00</td>\n",
       "      <td>556.93</td>\n",
       "      <td>556.97</td>\n",
       "      <td>10800.0</td>\n",
       "      <td>0.0</td>\n",
       "      <td>1.0</td>\n",
       "      <td>566.890</td>\n",
       "      <td>567.00</td>\n",
       "      <td>556.93</td>\n",
       "      <td>556.97</td>\n",
       "      <td>10800.0</td>\n",
       "    </tr>\n",
       "    <tr>\n",
       "      <th>2014-04-01</th>\n",
       "      <td>558.710</td>\n",
       "      <td>568.45</td>\n",
       "      <td>558.71</td>\n",
       "      <td>567.16</td>\n",
       "      <td>7900.0</td>\n",
       "      <td>0.0</td>\n",
       "      <td>1.0</td>\n",
       "      <td>558.710</td>\n",
       "      <td>568.45</td>\n",
       "      <td>558.71</td>\n",
       "      <td>567.16</td>\n",
       "      <td>7900.0</td>\n",
       "    </tr>\n",
       "    <tr>\n",
       "      <th>2014-04-02</th>\n",
       "      <td>565.106</td>\n",
       "      <td>604.83</td>\n",
       "      <td>562.19</td>\n",
       "      <td>567.00</td>\n",
       "      <td>146700.0</td>\n",
       "      <td>0.0</td>\n",
       "      <td>1.0</td>\n",
       "      <td>565.106</td>\n",
       "      <td>604.83</td>\n",
       "      <td>562.19</td>\n",
       "      <td>567.00</td>\n",
       "      <td>146700.0</td>\n",
       "    </tr>\n",
       "    <tr>\n",
       "      <th>...</th>\n",
       "      <td>...</td>\n",
       "      <td>...</td>\n",
       "      <td>...</td>\n",
       "      <td>...</td>\n",
       "      <td>...</td>\n",
       "      <td>...</td>\n",
       "      <td>...</td>\n",
       "      <td>...</td>\n",
       "      <td>...</td>\n",
       "      <td>...</td>\n",
       "      <td>...</td>\n",
       "      <td>...</td>\n",
       "    </tr>\n",
       "    <tr>\n",
       "      <th>2018-03-21</th>\n",
       "      <td>1092.740</td>\n",
       "      <td>1106.30</td>\n",
       "      <td>1085.15</td>\n",
       "      <td>1090.88</td>\n",
       "      <td>1640709.0</td>\n",
       "      <td>0.0</td>\n",
       "      <td>1.0</td>\n",
       "      <td>1092.740</td>\n",
       "      <td>1106.30</td>\n",
       "      <td>1085.15</td>\n",
       "      <td>1090.88</td>\n",
       "      <td>1640709.0</td>\n",
       "    </tr>\n",
       "    <tr>\n",
       "      <th>2018-03-22</th>\n",
       "      <td>1081.880</td>\n",
       "      <td>1082.90</td>\n",
       "      <td>1045.91</td>\n",
       "      <td>1049.08</td>\n",
       "      <td>2580374.0</td>\n",
       "      <td>0.0</td>\n",
       "      <td>1.0</td>\n",
       "      <td>1081.880</td>\n",
       "      <td>1082.90</td>\n",
       "      <td>1045.91</td>\n",
       "      <td>1049.08</td>\n",
       "      <td>2580374.0</td>\n",
       "    </tr>\n",
       "    <tr>\n",
       "      <th>2018-03-23</th>\n",
       "      <td>1047.030</td>\n",
       "      <td>1063.36</td>\n",
       "      <td>1021.22</td>\n",
       "      <td>1021.57</td>\n",
       "      <td>2113497.0</td>\n",
       "      <td>0.0</td>\n",
       "      <td>1.0</td>\n",
       "      <td>1047.030</td>\n",
       "      <td>1063.36</td>\n",
       "      <td>1021.22</td>\n",
       "      <td>1021.57</td>\n",
       "      <td>2113497.0</td>\n",
       "    </tr>\n",
       "    <tr>\n",
       "      <th>2018-03-26</th>\n",
       "      <td>1046.000</td>\n",
       "      <td>1055.63</td>\n",
       "      <td>1008.40</td>\n",
       "      <td>1053.21</td>\n",
       "      <td>2558385.0</td>\n",
       "      <td>0.0</td>\n",
       "      <td>1.0</td>\n",
       "      <td>1046.000</td>\n",
       "      <td>1055.63</td>\n",
       "      <td>1008.40</td>\n",
       "      <td>1053.21</td>\n",
       "      <td>2558385.0</td>\n",
       "    </tr>\n",
       "    <tr>\n",
       "      <th>2018-03-27</th>\n",
       "      <td>1063.000</td>\n",
       "      <td>1064.84</td>\n",
       "      <td>996.92</td>\n",
       "      <td>1005.10</td>\n",
       "      <td>3029471.0</td>\n",
       "      <td>0.0</td>\n",
       "      <td>1.0</td>\n",
       "      <td>1063.000</td>\n",
       "      <td>1064.84</td>\n",
       "      <td>996.92</td>\n",
       "      <td>1005.10</td>\n",
       "      <td>3029471.0</td>\n",
       "    </tr>\n",
       "  </tbody>\n",
       "</table>\n",
       "<p>1007 rows × 12 columns</p>\n",
       "</div>"
      ],
      "text/plain": [
       "                Open     High      Low    Close     Volume  Ex-Dividend  \\\n",
       "Date                                                                      \n",
       "2014-03-27   568.000   568.00   552.92   558.46    13100.0          0.0   \n",
       "2014-03-28   561.200   566.43   558.67   559.99    41100.0          0.0   \n",
       "2014-03-31   566.890   567.00   556.93   556.97    10800.0          0.0   \n",
       "2014-04-01   558.710   568.45   558.71   567.16     7900.0          0.0   \n",
       "2014-04-02   565.106   604.83   562.19   567.00   146700.0          0.0   \n",
       "...              ...      ...      ...      ...        ...          ...   \n",
       "2018-03-21  1092.740  1106.30  1085.15  1090.88  1640709.0          0.0   \n",
       "2018-03-22  1081.880  1082.90  1045.91  1049.08  2580374.0          0.0   \n",
       "2018-03-23  1047.030  1063.36  1021.22  1021.57  2113497.0          0.0   \n",
       "2018-03-26  1046.000  1055.63  1008.40  1053.21  2558385.0          0.0   \n",
       "2018-03-27  1063.000  1064.84   996.92  1005.10  3029471.0          0.0   \n",
       "\n",
       "            Split Ratio  Adj. Open  Adj. High  Adj. Low  Adj. Close  \\\n",
       "Date                                                                  \n",
       "2014-03-27          1.0    568.000     568.00    552.92      558.46   \n",
       "2014-03-28          1.0    561.200     566.43    558.67      559.99   \n",
       "2014-03-31          1.0    566.890     567.00    556.93      556.97   \n",
       "2014-04-01          1.0    558.710     568.45    558.71      567.16   \n",
       "2014-04-02          1.0    565.106     604.83    562.19      567.00   \n",
       "...                 ...        ...        ...       ...         ...   \n",
       "2018-03-21          1.0   1092.740    1106.30   1085.15     1090.88   \n",
       "2018-03-22          1.0   1081.880    1082.90   1045.91     1049.08   \n",
       "2018-03-23          1.0   1047.030    1063.36   1021.22     1021.57   \n",
       "2018-03-26          1.0   1046.000    1055.63   1008.40     1053.21   \n",
       "2018-03-27          1.0   1063.000    1064.84    996.92     1005.10   \n",
       "\n",
       "            Adj. Volume  \n",
       "Date                     \n",
       "2014-03-27      13100.0  \n",
       "2014-03-28      41100.0  \n",
       "2014-03-31      10800.0  \n",
       "2014-04-01       7900.0  \n",
       "2014-04-02     146700.0  \n",
       "...                 ...  \n",
       "2018-03-21    1640709.0  \n",
       "2018-03-22    2580374.0  \n",
       "2018-03-23    2113497.0  \n",
       "2018-03-26    2558385.0  \n",
       "2018-03-27    3029471.0  \n",
       "\n",
       "[1007 rows x 12 columns]"
      ]
     },
     "execution_count": 287,
     "metadata": {},
     "output_type": "execute_result"
    }
   ],
   "source": [
    "# df_copy = df\n",
    "df = df_copy\n",
    "df"
   ]
  },
  {
   "cell_type": "code",
   "execution_count": 288,
   "metadata": {
    "colab": {
     "base_uri": "https://localhost:8080/",
     "height": 34
    },
    "colab_type": "code",
    "id": "YI1ReozZKpkX",
    "outputId": "6d4d7886-5d54-4e64-ad68-7578018361d5"
   },
   "outputs": [
    {
     "data": {
      "text/plain": [
       "array([ 558.46,  559.99,  556.97, ..., 1021.57, 1053.21, 1005.1 ])"
      ]
     },
     "execution_count": 288,
     "metadata": {},
     "output_type": "execute_result"
    }
   ],
   "source": [
    "df = df.dropna()\n",
    "df = df.iloc[:, 3].values\n",
    "df\n"
   ]
  },
  {
   "cell_type": "code",
   "execution_count": 289,
   "metadata": {
    "colab": {
     "base_uri": "https://localhost:8080/",
     "height": 34
    },
    "colab_type": "code",
    "id": "-PGXkMFeMDQa",
    "outputId": "d3cd058b-643b-41d6-943b-bb851c453050"
   },
   "outputs": [
    {
     "name": "stdout",
     "output_type": "stream",
     "text": [
      "<class 'numpy.ndarray'>\n"
     ]
    }
   ],
   "source": [
    "print(type(df))"
   ]
  },
  {
   "cell_type": "code",
   "execution_count": 290,
   "metadata": {
    "colab": {},
    "colab_type": "code",
    "id": "arrbSCIOK2GW"
   },
   "outputs": [],
   "source": [
    "scaler = preprocessing.StandardScaler()\n",
    "df = scaler.fit_transform(df.reshape(-1,1))\n",
    "df = pd.DataFrame(df)\n"
   ]
  },
  {
   "cell_type": "code",
   "execution_count": 291,
   "metadata": {
    "colab": {},
    "colab_type": "code",
    "id": "RrJu-n04LQpx"
   },
   "outputs": [],
   "source": [
    "df = df.rename(columns={0: \"Close\"})"
   ]
  },
  {
   "cell_type": "code",
   "execution_count": 292,
   "metadata": {
    "colab": {
     "base_uri": "https://localhost:8080/",
     "height": 417
    },
    "colab_type": "code",
    "id": "dQaQ7oJiNI_h",
    "outputId": "11d33cb1-ed89-4ae8-ddfd-fcb9cabc3859"
   },
   "outputs": [
    {
     "data": {
      "text/html": [
       "<div>\n",
       "<style scoped>\n",
       "    .dataframe tbody tr th:only-of-type {\n",
       "        vertical-align: middle;\n",
       "    }\n",
       "\n",
       "    .dataframe tbody tr th {\n",
       "        vertical-align: top;\n",
       "    }\n",
       "\n",
       "    .dataframe thead th {\n",
       "        text-align: right;\n",
       "    }\n",
       "</style>\n",
       "<table border=\"1\" class=\"dataframe\">\n",
       "  <thead>\n",
       "    <tr style=\"text-align: right;\">\n",
       "      <th></th>\n",
       "      <th>Close</th>\n",
       "    </tr>\n",
       "  </thead>\n",
       "  <tbody>\n",
       "    <tr>\n",
       "      <th>0</th>\n",
       "      <td>-1.013989</td>\n",
       "    </tr>\n",
       "    <tr>\n",
       "      <th>1</th>\n",
       "      <td>-1.005308</td>\n",
       "    </tr>\n",
       "    <tr>\n",
       "      <th>2</th>\n",
       "      <td>-1.022444</td>\n",
       "    </tr>\n",
       "    <tr>\n",
       "      <th>3</th>\n",
       "      <td>-0.964626</td>\n",
       "    </tr>\n",
       "    <tr>\n",
       "      <th>4</th>\n",
       "      <td>-0.965534</td>\n",
       "    </tr>\n",
       "    <tr>\n",
       "      <th>...</th>\n",
       "      <td>...</td>\n",
       "    </tr>\n",
       "    <tr>\n",
       "      <th>1002</th>\n",
       "      <td>2.006916</td>\n",
       "    </tr>\n",
       "    <tr>\n",
       "      <th>1003</th>\n",
       "      <td>1.769746</td>\n",
       "    </tr>\n",
       "    <tr>\n",
       "      <th>1004</th>\n",
       "      <td>1.613657</td>\n",
       "    </tr>\n",
       "    <tr>\n",
       "      <th>1005</th>\n",
       "      <td>1.793179</td>\n",
       "    </tr>\n",
       "    <tr>\n",
       "      <th>1006</th>\n",
       "      <td>1.520207</td>\n",
       "    </tr>\n",
       "  </tbody>\n",
       "</table>\n",
       "<p>1007 rows × 1 columns</p>\n",
       "</div>"
      ],
      "text/plain": [
       "         Close\n",
       "0    -1.013989\n",
       "1    -1.005308\n",
       "2    -1.022444\n",
       "3    -0.964626\n",
       "4    -0.965534\n",
       "...        ...\n",
       "1002  2.006916\n",
       "1003  1.769746\n",
       "1004  1.613657\n",
       "1005  1.793179\n",
       "1006  1.520207\n",
       "\n",
       "[1007 rows x 1 columns]"
      ]
     },
     "execution_count": 292,
     "metadata": {},
     "output_type": "execute_result"
    }
   ],
   "source": [
    "df"
   ]
  },
  {
   "cell_type": "code",
   "execution_count": 293,
   "metadata": {
    "colab": {},
    "colab_type": "code",
    "id": "tf5phFw-NOPw"
   },
   "outputs": [],
   "source": [
    "Next_N_Day = 30\n",
    "df['GT'] = df[['Close']].shift(-Next_N_Day)"
   ]
  },
  {
   "cell_type": "code",
   "execution_count": 294,
   "metadata": {
    "colab": {
     "base_uri": "https://localhost:8080/",
     "height": 417
    },
    "colab_type": "code",
    "id": "TVXzVZuROfmN",
    "outputId": "53601903-8bef-43a4-a17f-4f9c1a1df9e4"
   },
   "outputs": [
    {
     "data": {
      "text/html": [
       "<div>\n",
       "<style scoped>\n",
       "    .dataframe tbody tr th:only-of-type {\n",
       "        vertical-align: middle;\n",
       "    }\n",
       "\n",
       "    .dataframe tbody tr th {\n",
       "        vertical-align: top;\n",
       "    }\n",
       "\n",
       "    .dataframe thead th {\n",
       "        text-align: right;\n",
       "    }\n",
       "</style>\n",
       "<table border=\"1\" class=\"dataframe\">\n",
       "  <thead>\n",
       "    <tr style=\"text-align: right;\">\n",
       "      <th></th>\n",
       "      <th>Close</th>\n",
       "      <th>GT</th>\n",
       "    </tr>\n",
       "  </thead>\n",
       "  <tbody>\n",
       "    <tr>\n",
       "      <th>0</th>\n",
       "      <td>-1.013989</td>\n",
       "      <td>-1.239414</td>\n",
       "    </tr>\n",
       "    <tr>\n",
       "      <th>1</th>\n",
       "      <td>-1.005308</td>\n",
       "      <td>-1.175923</td>\n",
       "    </tr>\n",
       "    <tr>\n",
       "      <th>2</th>\n",
       "      <td>-1.022444</td>\n",
       "      <td>-1.157937</td>\n",
       "    </tr>\n",
       "    <tr>\n",
       "      <th>3</th>\n",
       "      <td>-0.964626</td>\n",
       "      <td>-1.194477</td>\n",
       "    </tr>\n",
       "    <tr>\n",
       "      <th>4</th>\n",
       "      <td>-0.965534</td>\n",
       "      <td>-1.232322</td>\n",
       "    </tr>\n",
       "    <tr>\n",
       "      <th>...</th>\n",
       "      <td>...</td>\n",
       "      <td>...</td>\n",
       "    </tr>\n",
       "    <tr>\n",
       "      <th>972</th>\n",
       "      <td>1.948588</td>\n",
       "      <td>2.006916</td>\n",
       "    </tr>\n",
       "    <tr>\n",
       "      <th>973</th>\n",
       "      <td>1.766909</td>\n",
       "      <td>1.769746</td>\n",
       "    </tr>\n",
       "    <tr>\n",
       "      <th>974</th>\n",
       "      <td>1.496944</td>\n",
       "      <td>1.613657</td>\n",
       "    </tr>\n",
       "    <tr>\n",
       "      <th>975</th>\n",
       "      <td>1.694850</td>\n",
       "      <td>1.793179</td>\n",
       "    </tr>\n",
       "    <tr>\n",
       "      <th>976</th>\n",
       "      <td>1.785973</td>\n",
       "      <td>1.520207</td>\n",
       "    </tr>\n",
       "  </tbody>\n",
       "</table>\n",
       "<p>977 rows × 2 columns</p>\n",
       "</div>"
      ],
      "text/plain": [
       "        Close        GT\n",
       "0   -1.013989 -1.239414\n",
       "1   -1.005308 -1.175923\n",
       "2   -1.022444 -1.157937\n",
       "3   -0.964626 -1.194477\n",
       "4   -0.965534 -1.232322\n",
       "..        ...       ...\n",
       "972  1.948588  2.006916\n",
       "973  1.766909  1.769746\n",
       "974  1.496944  1.613657\n",
       "975  1.694850  1.793179\n",
       "976  1.785973  1.520207\n",
       "\n",
       "[977 rows x 2 columns]"
      ]
     },
     "execution_count": 294,
     "metadata": {},
     "output_type": "execute_result"
    }
   ],
   "source": [
    "df = df.dropna()\n",
    "df"
   ]
  },
  {
   "cell_type": "code",
   "execution_count": 295,
   "metadata": {
    "colab": {},
    "colab_type": "code",
    "id": "-fdj9fZGOiZq"
   },
   "outputs": [],
   "source": [
    "test_X = df.iloc[-60:, 0].values\n",
    "test_Y = df.iloc[-60:, 1].values\n",
    "X = df.iloc[0:len(df),0].values\n",
    "y = df.iloc[0:len(df),1].values"
   ]
  },
  {
   "cell_type": "code",
   "execution_count": 296,
   "metadata": {
    "colab": {},
    "colab_type": "code",
    "id": "nKB1g3jGQrWs"
   },
   "outputs": [],
   "source": [
    "X_train, X_test, y_train, y_test = model_selection.train_test_split(X, y, test_size = 0.2,random_state = 42)"
   ]
  },
  {
   "cell_type": "code",
   "execution_count": 297,
   "metadata": {
    "colab": {
     "base_uri": "https://localhost:8080/",
     "height": 428
    },
    "colab_type": "code",
    "id": "5d3a4YNQQvMC",
    "outputId": "715c7647-e55f-41f8-f09d-5036b4fb0e16"
   },
   "outputs": [
    {
     "data": {
      "image/png": "[encoded data removed]",
      "text/plain": [
       "<Figure size 1440x504 with 1 Axes>"
      ]
     },
     "metadata": {
      "needs_background": "light"
     },
     "output_type": "display_data"
    }
   ],
   "source": [
    "plt.figure(figsize = (20, 7))\n",
    "plt.scatter(X_train, y_train, marker = 'o', color = 'r')\n",
    "plt.scatter(X_test, y_test, marker = 'o', color = 'b')\n",
    "plt.legend(labels = ['train','test'])\n",
    "plt.show()"
   ]
  },
  {
   "cell_type": "code",
   "execution_count": 298,
   "metadata": {
    "colab": {},
    "colab_type": "code",
    "id": "yNV_VQ8jTKES"
   },
   "outputs": [],
   "source": [
    "c_val = 1000\n",
    "gmm = 0.1\n",
    "model_li = LinearRegression()\n",
    "model_svr_li = SVR(kernel='linear', C=c_val)\n",
    "model_svr_rbf = SVR(kernel='rbf', C=c_val, gamma=gmm)\n",
    "model_svr_pol = SVR(kernel='poly', C=c_val, degree=2)\n",
    "seed = 7\n",
    "kfold = model_selection.KFold(n_splits=10, random_state = seed, shuffle=True)\n",
    "score_model_li = model_selection.cross_val_score(model_li, X_train.reshape(-1,1), y_train, cv = kfold)\n",
    "score_svr_li = model_selection.cross_val_score(model_svr_li, X_train.reshape(-1,1), y_train, cv = kfold)\n",
    "score_svr_rbf = model_selection.cross_val_score(model_svr_rbf, X_train.reshape(-1,1), y_train, cv = kfold)\n",
    "score_svr_pol = model_selection.cross_val_score(model_svr_pol, X_train.reshape(-1,1), y_train, cv = kfold)"
   ]
  },
  {
   "cell_type": "code",
   "execution_count": 299,
   "metadata": {
    "colab": {
     "base_uri": "https://localhost:8080/",
     "height": 155
    },
    "colab_type": "code",
    "id": "kVb0iDQjTmEW",
    "outputId": "565bd559-b445-489e-a934-63c70713f25d"
   },
   "outputs": [
    {
     "name": "stdout",
     "output_type": "stream",
     "text": [
      "[0.92504532 0.93476088 0.93515966 0.9352689  0.93702634 0.92394733\n",
      " 0.9247415  0.9039145  0.93022679 0.93858007]\n",
      "[0.9222704  0.93458616 0.93544037 0.93315901 0.93653178 0.92081508\n",
      " 0.92420425 0.90205277 0.93020109 0.93502581]\n",
      "[0.92425446 0.93650119 0.94036949 0.93625245 0.94285131 0.92250598\n",
      " 0.92735695 0.90186987 0.93166469 0.93259448]\n",
      "[-0.12684174  0.149233    0.08598818  0.20479722 -0.01070971  0.13358689\n",
      " -0.02611682 -0.14399276  0.09968644 -0.02118776]\n"
     ]
    }
   ],
   "source": [
    "print(score_model_li)\n",
    "print(score_svr_li)\n",
    "print(score_svr_rbf)\n",
    "print(score_svr_pol)"
   ]
  },
  {
   "cell_type": "code",
   "execution_count": 300,
   "metadata": {
    "colab": {
     "base_uri": "https://localhost:8080/",
     "height": 592
    },
    "colab_type": "code",
    "id": "m4pbnhuVUq4W",
    "outputId": "70b498c3-a0c2-42ff-d0ca-41e6eadd8594"
   },
   "outputs": [
    {
     "data": {
      "image/png": "[encoded data removed]",
      "text/plain": [
       "<Figure size 1440x720 with 1 Axes>"
      ]
     },
     "metadata": {
      "needs_background": "light"
     },
     "output_type": "display_data"
    }
   ],
   "source": [
    "# fig = plt.figure(figsize = (20, 10))\n",
    "\n",
    "# plt.plot(score_model_li, marker = 'o', color = 'r')\n",
    "# plt.plot(score_svr_li, marker = 'o', color = 'g')\n",
    "# plt.plot(score_svr_rbf, marker = 'o', color = 'b')\n",
    "# plt.plot(score_svr_pol, marker = 'o', color = 'c')\n",
    "# plt.title('score')\n",
    "# plt.show()\n",
    "fig = plt.figure(figsize = (20,10))\n",
    "arr = np.arange(10)\n",
    "plt.bar(arr+0, score_model_li, color = 'r', width = 0.25)\n",
    "plt.bar(arr+0.25, score_svr_li, color = 'g', width = 0.25)\n",
    "plt.bar(arr+0.5, score_svr_rbf, color = 'b', width = 0.25)\n",
    "plt.bar(arr+0.75, score_svr_pol, color = 'c', width = 0.25)\n",
    "plt.legend(labels = ['score_model_li','score_svr_li','score_svr_rbf','score_svr_pol'])\n",
    "plt.show()"
   ]
  },
  {
   "cell_type": "code",
   "execution_count": 301,
   "metadata": {
    "colab": {
     "base_uri": "https://localhost:8080/",
     "height": 337
    },
    "colab_type": "code",
    "id": "oJ707NBoVRNV",
    "outputId": "a3c1bc96-15e2-4ca8-c394-84bf9d87d79c"
   },
   "outputs": [
    {
     "data": {
      "image/png": "[encoded data removed]",
      "text/plain": [
       "<Figure size 432x288 with 1 Axes>"
      ]
     },
     "metadata": {
      "needs_background": "light"
     },
     "output_type": "display_data"
    }
   ],
   "source": [
    "fig = plt.figure()\n",
    "ax = fig.add_axes([0,0,1,1])\n",
    "langs = ['score_model_li', 'score_svr_li', 'score_svr_rbf', 'score_svr_pol']\n",
    "students = [score_model_li.mean(),score_svr_li.mean(),score_svr_rbf.mean(),score_svr_pol.mean()]\n",
    "ax.bar(langs,students)\n",
    "plt.show()"
   ]
  },
  {
   "cell_type": "code",
   "execution_count": 302,
   "metadata": {
    "colab": {
     "base_uri": "https://localhost:8080/",
     "height": 337
    },
    "colab_type": "code",
    "id": "pJyCCHPCWM6V",
    "outputId": "8615a782-f1e6-4272-f656-5088210f9a50"
   },
   "outputs": [
    {
     "data": {
      "image/png": "[encoded data removed]",
      "text/plain": [
       "<Figure size 432x288 with 1 Axes>"
      ]
     },
     "metadata": {
      "needs_background": "light"
     },
     "output_type": "display_data"
    }
   ],
   "source": [
    "fig = plt.figure()\n",
    "ax = fig.add_axes([0,0,1,1])\n",
    "langs = ['score_model_li', 'score_svr_li', 'score_svr_rbf', 'score_svr_pol']\n",
    "students = [score_model_li.std(),score_svr_li.std(),score_svr_rbf.std(),score_svr_pol.std()]\n",
    "ax.bar(langs,students)\n",
    "plt.show()"
   ]
  },
  {
   "cell_type": "code",
   "execution_count": 303,
   "metadata": {
    "colab": {
     "base_uri": "https://localhost:8080/",
     "height": 51
    },
    "colab_type": "code",
    "id": "avCq1aafWPMg",
    "outputId": "becf22da-7ca1-42c1-9079-591fdd7476d8"
   },
   "outputs": [
    {
     "data": {
      "text/plain": [
       "SVR(C=1000, cache_size=200, coef0=0.0, degree=3, epsilon=0.1, gamma=0.1,\n",
       "    kernel='rbf', max_iter=-1, shrinking=True, tol=0.001, verbose=False)"
      ]
     },
     "execution_count": 303,
     "metadata": {},
     "output_type": "execute_result"
    }
   ],
   "source": [
    "model_li.fit(X_train.reshape(-1,1), y_train)\n",
    "model_svr_li.fit(X_train.reshape(-1,1), y_train)\n",
    "model_svr_pol.fit(X_train.reshape(-1,1), y_train)\n",
    "model_svr_rbf.fit(X_train.reshape(-1,1), y_train)"
   ]
  },
  {
   "cell_type": "code",
   "execution_count": 304,
   "metadata": {
    "colab": {},
    "colab_type": "code",
    "id": "sXAEMtGBWeDk"
   },
   "outputs": [],
   "source": [
    "li_pred = model_li.predict(test_X.reshape(-1,1))\n",
    "svr_li_pred = model_svr_li.predict(test_X.reshape(-1,1))\n",
    "svr_rbf_pred = model_svr_rbf.predict(test_X.reshape(-1,1))\n",
    "svr_pol_pred = model_svr_pol.predict(test_X.reshape(-1,1))\n",
    "\n",
    "li_pred_v = model_li.predict(X_test.reshape(-1,1))\n",
    "svr_li_pred_v = model_svr_li.predict(X_test.reshape(-1,1))\n",
    "svr_rbf_pred_v = model_svr_rbf.predict(X_test.reshape(-1,1))\n",
    "svr_pol_pred_v = model_svr_pol.predict(X_test.reshape(-1,1))"
   ]
  },
  {
   "cell_type": "code",
   "execution_count": 305,
   "metadata": {
    "colab": {
     "base_uri": "https://localhost:8080/",
     "height": 344
    },
    "colab_type": "code",
    "id": "dpsBWs_QW63z",
    "outputId": "a591e8c1-30e8-4c45-d0f5-e01cc4db3b30"
   },
   "outputs": [
    {
     "name": "stdout",
     "output_type": "stream",
     "text": [
      "Validation\n",
      "<<mean_squared_error>>\n",
      "linear\n",
      "0.05897556245948344\n",
      "svr linear\n",
      "0.0609613971963176\n",
      "svr rbf\n",
      "0.057662017521909095\n",
      "svr poly\n",
      "0.8987358556692088\n",
      "<<r2_score>>\n",
      "linear\n",
      "0.9405984442847967\n",
      "svr linear\n",
      "0.9385982654337296\n",
      "svr rbf\n",
      "0.9419214772418346\n",
      "svr poly\n",
      "0.09477238067102467\n"
     ]
    }
   ],
   "source": [
    "print('Validation')\n",
    "print('<<mean_squared_error>>')\n",
    "print('linear')\n",
    "print(metrics.mean_squared_error(y_test, li_pred_v))\n",
    "print('svr linear')\n",
    "print(metrics.mean_squared_error(y_test, svr_li_pred_v))\n",
    "print('svr rbf')\n",
    "print(metrics.mean_squared_error(y_test, svr_rbf_pred_v))\n",
    "print('svr poly')\n",
    "print(metrics.mean_squared_error(y_test, svr_pol_pred_v))\n",
    "print('<<r2_score>>')\n",
    "print('linear')\n",
    "print(metrics.r2_score(y_test, li_pred_v))\n",
    "print('svr linear')\n",
    "print(metrics.r2_score(y_test, svr_li_pred_v))\n",
    "print('svr rbf')\n",
    "print(metrics.r2_score(y_test, svr_rbf_pred_v))\n",
    "print('svr poly')\n",
    "print(metrics.r2_score(y_test, svr_pol_pred_v))"
   ]
  },
  {
   "cell_type": "code",
   "execution_count": 306,
   "metadata": {
    "colab": {
     "base_uri": "https://localhost:8080/",
     "height": 344
    },
    "colab_type": "code",
    "id": "WLUfGb5-XJL8",
    "outputId": "308aad2a-5047-43ea-e8e7-a7bf3f281f2d"
   },
   "outputs": [
    {
     "name": "stdout",
     "output_type": "stream",
     "text": [
      "Test\n",
      "<<mean_squared_error>>\n",
      "linear\n",
      "0.12096342795718681\n",
      "svr linear\n",
      "0.12718676163137768\n",
      "svr rbf\n",
      "0.09609655637086896\n",
      "svr poly\n",
      "0.7160481924802647\n",
      "<<r2_score>>\n",
      "linear\n",
      "-0.9812375020240014\n",
      "svr linear\n",
      "-1.0831683274903545\n",
      "svr rbf\n",
      "-0.5739476345256582\n",
      "svr poly\n",
      "-10.728020246751893\n"
     ]
    }
   ],
   "source": [
    "print('Test')\n",
    "print('<<mean_squared_error>>')\n",
    "print('linear')\n",
    "print(metrics.mean_squared_error(test_Y, li_pred))\n",
    "print('svr linear')\n",
    "print(metrics.mean_squared_error(test_Y, svr_li_pred))\n",
    "print('svr rbf')\n",
    "print(metrics.mean_squared_error(test_Y, svr_rbf_pred))\n",
    "print('svr poly')\n",
    "print(metrics.mean_squared_error(test_Y, svr_pol_pred))\n",
    "print('<<r2_score>>')\n",
    "print('linear')\n",
    "print(metrics.r2_score(test_Y, li_pred))\n",
    "print('svr linear')\n",
    "print(metrics.r2_score(test_Y, svr_li_pred))\n",
    "print('svr rbf')\n",
    "print(metrics.r2_score(test_Y, svr_rbf_pred))\n",
    "print('svr poly')\n",
    "print(metrics.r2_score(test_Y, svr_pol_pred))"
   ]
  },
  {
   "cell_type": "code",
   "execution_count": 307,
   "metadata": {
    "colab": {
     "base_uri": "https://localhost:8080/",
     "height": 390
    },
    "colab_type": "code",
    "id": "UQYBgSPiXK7e",
    "outputId": "a424cea7-5661-404b-f01f-299f9e95f656"
   },
   "outputs": [
    {
     "data": {
      "image/png": "[encoded data removed]",
      "text/plain": [
       "<Figure size 1440x432 with 1 Axes>"
      ]
     },
     "metadata": {
      "needs_background": "light"
     },
     "output_type": "display_data"
    }
   ],
   "source": [
    "plt.figure(figsize = (20, 6))\n",
    "\n",
    "plt.scatter(X_test, li_pred_v, color = 'g')\n",
    "plt.scatter(X_test, svr_li_pred_v, color = 'b')\n",
    "plt.scatter(X_test, svr_rbf_pred_v, color = 'c')\n",
    "plt.scatter(X_test, svr_pol_pred_v, color = 'y')\n",
    "plt.title('predict validation')\n",
    "plt.legend(labels = ['model_li','svr_li','svr_rbf','svr_pol'])\n",
    "plt.show()"
   ]
  },
  {
   "cell_type": "code",
   "execution_count": 308,
   "metadata": {
    "colab": {
     "base_uri": "https://localhost:8080/",
     "height": 390
    },
    "colab_type": "code",
    "id": "tGFEe36XXpea",
    "outputId": "052617eb-a1b2-4cba-c34c-94b53928f4b5"
   },
   "outputs": [
    {
     "data": {
      "image/png": "[encoded data removed]",
      "text/plain": [
       "<Figure size 1440x432 with 1 Axes>"
      ]
     },
     "metadata": {
      "needs_background": "light"
     },
     "output_type": "display_data"
    }
   ],
   "source": [
    "plt.figure(figsize = (20, 6))\n",
    "\n",
    "plt.scatter(test_X, li_pred, color = 'g')\n",
    "plt.scatter(test_X, svr_li_pred, color = 'b')\n",
    "plt.scatter(test_X, svr_rbf_pred, color = 'c')\n",
    "plt.scatter(test_X, svr_pol_pred, color = 'y')\n",
    "plt.title('predict test')\n",
    "plt.legend(labels = ['model_li','svr_li','svr_rbf','svr_pol'])\n",
    "plt.show()"
   ]
  },
  {
   "cell_type": "code",
   "execution_count": 309,
   "metadata": {
    "colab": {},
    "colab_type": "code",
    "id": "n0XKJZt9Ytph"
   },
   "outputs": [],
   "source": [
    "kernels = ['linear', 'poly', 'rbf'] \n",
    "c_param = [0.1, 1, 10 ,100]\n",
    "gamma = [0.1, 0.5, 1]\n",
    "tuned_parameters = [{'kernel':kernels, 'C': c_param, 'gamma': gamma}]"
   ]
  },
  {
   "cell_type": "code",
   "execution_count": 310,
   "metadata": {
    "colab": {},
    "colab_type": "code",
    "id": "Mtp5fol3bDtv"
   },
   "outputs": [],
   "source": [
    "model = SVR()\n",
    "grid = model_selection.GridSearchCV(model, tuned_parameters, cv = kfold)"
   ]
  },
  {
   "cell_type": "code",
   "execution_count": 311,
   "metadata": {
    "colab": {
     "base_uri": "https://localhost:8080/",
     "height": 189
    },
    "colab_type": "code",
    "id": "qA--Ke8Zc5SS",
    "outputId": "2fe29476-8e98-4c4a-8b92-f7c8a4c919e1"
   },
   "outputs": [
    {
     "data": {
      "text/plain": [
       "GridSearchCV(cv=KFold(n_splits=10, random_state=7, shuffle=True),\n",
       "             error_score=nan,\n",
       "             estimator=SVR(C=1.0, cache_size=200, coef0=0.0, degree=3,\n",
       "                           epsilon=0.1, gamma='scale', kernel='rbf',\n",
       "                           max_iter=-1, shrinking=True, tol=0.001,\n",
       "                           verbose=False),\n",
       "             iid='deprecated', n_jobs=None,\n",
       "             param_grid=[{'C': [0.1, 1, 10, 100], 'gamma': [0.1, 0.5, 1],\n",
       "                          'kernel': ['linear', 'poly', 'rbf']}],\n",
       "             pre_dispatch='2*n_jobs', refit=True, return_train_score=False,\n",
       "             scoring=None, verbose=0)"
      ]
     },
     "execution_count": 311,
     "metadata": {},
     "output_type": "execute_result"
    }
   ],
   "source": [
    "grid.fit(X_train.reshape(-1,1), y_train)"
   ]
  },
  {
   "cell_type": "code",
   "execution_count": 312,
   "metadata": {
    "colab": {
     "base_uri": "https://localhost:8080/",
     "height": 34
    },
    "colab_type": "code",
    "id": "5tfk87PofYeO",
    "outputId": "4992ce65-4f3d-48a5-9054-b9534c64c346"
   },
   "outputs": [
    {
     "data": {
      "text/plain": [
       "{'C': 100, 'gamma': 1, 'kernel': 'rbf'}"
      ]
     },
     "execution_count": 312,
     "metadata": {},
     "output_type": "execute_result"
    }
   ],
   "source": [
    "grid.best_params_"
   ]
  },
  {
   "cell_type": "code",
   "execution_count": 313,
   "metadata": {
    "colab": {
     "base_uri": "https://localhost:8080/",
     "height": 34
    },
    "colab_type": "code",
    "id": "1lg4N4z5f8vm",
    "outputId": "e2276cd3-3e1e-438e-f069-c3c5c7efab2b"
   },
   "outputs": [
    {
     "data": {
      "text/plain": [
       "0.947119451223759"
      ]
     },
     "execution_count": 313,
     "metadata": {},
     "output_type": "execute_result"
    }
   ],
   "source": [
    "grid.best_score_"
   ]
  },
  {
   "cell_type": "code",
   "execution_count": 314,
   "metadata": {
    "colab": {},
    "colab_type": "code",
    "id": "D8TEHcsmgLw2"
   },
   "outputs": [],
   "source": [
    "validate_pred = grid.predict(X_test.reshape(-1,1))\n",
    "test_pred = grid.predict(test_X.reshape(-1,1))"
   ]
  },
  {
   "cell_type": "code",
   "execution_count": 315,
   "metadata": {
    "colab": {
     "base_uri": "https://localhost:8080/",
     "height": 206
    },
    "colab_type": "code",
    "id": "N8KEhLc9gdTU",
    "outputId": "68857fb4-8e6e-4d0e-cb15-ebb3aece932e"
   },
   "outputs": [
    {
     "name": "stdout",
     "output_type": "stream",
     "text": [
      "Validation\n",
      "<<mean_squared_error>>\n",
      "0.05677635029259887\n",
      "<<r_squared>>\n",
      "0.942813541837287\n",
      "--------------------\n",
      "Test\n",
      "<<mean_squared_error>>\n",
      "0.07924898515024864\n",
      "<<r_squared>>\n",
      "-0.2980043971024655\n"
     ]
    }
   ],
   "source": [
    "print('Validation')\n",
    "print('<<mean_squared_error>>')\n",
    "print(metrics.mean_squared_error(y_test, validate_pred))\n",
    "print('<<r_squared>>')\n",
    "print(metrics.r2_score(y_test, validate_pred))\n",
    "print('--------------------')\n",
    "print('Test')\n",
    "print('<<mean_squared_error>>')\n",
    "print(metrics.mean_squared_error(test_Y, test_pred))\n",
    "print('<<r_squared>>')\n",
    "print(metrics.r2_score(test_Y, test_pred))"
   ]
  },
  {
   "cell_type": "code",
   "execution_count": 316,
   "metadata": {
    "colab": {
     "base_uri": "https://localhost:8080/",
     "height": 390
    },
    "colab_type": "code",
    "id": "dUTnAyghgwOB",
    "outputId": "010efde9-ed12-4b0d-beb3-98752512ac4c"
   },
   "outputs": [
    {
     "data": {
      "image/png": "[encoded data removed]",
      "text/plain": [
       "<Figure size 1440x288 with 1 Axes>"
      ]
     },
     "metadata": {
      "needs_background": "light"
     },
     "output_type": "display_data"
    }
   ],
   "source": [
    "plt.figure(figsize = (20, 4))\n",
    "plt.scatter(test_X, test_pred, color = 'r')\n",
    "plt.scatter(test_X, test_Y, color = 'y')\n",
    "plt.title('predict test')\n",
    "plt.legend(labels = ['predict','actual'])\n",
    "plt.show()"
   ]
  },
  {
   "cell_type": "code",
   "execution_count": 317,
   "metadata": {
    "colab": {
     "base_uri": "https://localhost:8080/",
     "height": 390
    },
    "colab_type": "code",
    "id": "f_QQvfB4kR69",
    "outputId": "5a8acf5f-bf06-4d76-ef33-ecc1b99e59c5"
   },
   "outputs": [
    {
     "data": {
      "image/png": "[encoded data removed]",
      "text/plain": [
       "<Figure size 1440x432 with 1 Axes>"
      ]
     },
     "metadata": {
      "needs_background": "light"
     },
     "output_type": "display_data"
    }
   ],
   "source": [
    "plt.figure(figsize = (20, 6))\n",
    "plt.scatter(X_test, validate_pred, color = 'r')\n",
    "plt.scatter(X_test, y_test, color = 'y')\n",
    "plt.title('predict validate')\n",
    "plt.legend(labels = ['predict','actual'])\n",
    "plt.show()"
   ]
  },
  {
   "cell_type": "code",
   "execution_count": 318,
   "metadata": {},
   "outputs": [
    {
     "name": "stdout",
     "output_type": "stream",
     "text": [
      "zeta 0 :  0.0972503282835951\n",
      "zeta 1 :  [1.01107588]\n"
     ]
    }
   ],
   "source": [
    "print('zeta 0 : ', model_li.intercept_)\n",
    "print('zeta 1 : ', model_li.coef_)"
   ]
  },
  {
   "cell_type": "code",
   "execution_count": 319,
   "metadata": {},
   "outputs": [
    {
     "name": "stdout",
     "output_type": "stream",
     "text": [
      "zeta 0 :  [0.0610624]\n",
      "zeta 1 :  [[1.00679431]]\n"
     ]
    }
   ],
   "source": [
    "print('zeta 0 : ', model_svr_li.intercept_)\n",
    "print('zeta 1 : ', model_svr_li.coef_)"
   ]
  },
  {
   "cell_type": "code",
   "execution_count": 320,
   "metadata": {},
   "outputs": [
    {
     "data": {
      "text/plain": [
       "array([1.60991179, 1.67567244, 1.59958526, 1.59555679, 1.68696353,\n",
       "       1.69530418, 1.72168788, 1.7988531 , 1.76027049, 1.61416722,\n",
       "       1.61274874, 1.54897396, 1.48378069, 1.52049091, 1.59555679,\n",
       "       1.6667644 , 1.70148875, 1.7244681 , 1.72095027, 1.72168788,\n",
       "       1.7701431 , 1.85547876, 1.92895594, 1.89230246, 1.85979093,\n",
       "       1.85230137, 1.83238593, 1.81320811, 1.77139136, 1.76441245,\n",
       "       1.75453984, 1.86007463, 1.95925464, 1.98149638, 2.07131443,\n",
       "       2.09803856, 2.0941803 , 2.07347051, 2.0899816 , 2.18496291,\n",
       "       2.18212596, 2.24011335, 2.22768748, 2.27149009, 2.37532271,\n",
       "       2.45566532, 2.4231538 , 2.45793489, 2.4889712 , 2.48749598,\n",
       "       2.42003315, 2.45549511, 2.44278554, 2.12618117, 1.85638659,\n",
       "       1.94858768, 1.76690897, 1.49694417, 1.69485027, 1.78597332])"
      ]
     },
     "execution_count": 320,
     "metadata": {},
     "output_type": "execute_result"
    }
   ],
   "source": [
    "test_X"
   ]
  },
  {
   "cell_type": "code",
   "execution_count": 321,
   "metadata": {},
   "outputs": [
    {
     "data": {
      "text/plain": [
       "array([1.75453984, 1.86007463, 1.95925464, 1.98149638, 2.07131443,\n",
       "       2.09803856, 2.0941803 , 2.07347051, 2.0899816 , 2.18496291,\n",
       "       2.18212596, 2.24011335, 2.22768748, 2.27149009, 2.37532271,\n",
       "       2.45566532, 2.4231538 , 2.45793489, 2.4889712 , 2.48749598,\n",
       "       2.42003315, 2.45549511, 2.44278554, 2.12618117, 1.85638659,\n",
       "       1.94858768, 1.76690897, 1.49694417, 1.69485027, 1.78597332,\n",
       "       1.78688115, 1.88674202, 1.99919899, 2.02915725, 2.07261943,\n",
       "       2.12300378, 2.09627965, 2.21066574, 2.30689531, 2.16243748,\n",
       "       2.08549921, 1.88572072, 1.93905551, 2.00719921, 2.03063247,\n",
       "       2.11335813, 2.20618335, 2.39932336, 2.42462902, 2.27523488,\n",
       "       2.33946358, 2.33997423, 2.26139053, 2.0576403 , 2.04566834,\n",
       "       2.00691551, 1.76974593, 1.61365657, 1.79317919, 1.52020722])"
      ]
     },
     "execution_count": 321,
     "metadata": {},
     "output_type": "execute_result"
    }
   ],
   "source": [
    "test_Y"
   ]
  },
  {
   "cell_type": "code",
   "execution_count": null,
   "metadata": {},
   "outputs": [],
   "source": []
  }
 ],
 "metadata": {
  "accelerator": "GPU",
  "colab": {
   "name": "Untitled.ipynb",
   "provenance": []
  },
  "kernelspec": {
   "display_name": "Python 3",
   "language": "python",
   "name": "python3"
  },
  "language_info": {
   "codemirror_mode": {
    "name": "ipython",
    "version": 3
   },
   "file_extension": ".py",
   "mimetype": "text/x-python",
   "name": "python",
   "nbconvert_exporter": "python",
   "pygments_lexer": "ipython3",
   "version": "3.7.6"
  }
 },
 "nbformat": 4,
 "nbformat_minor": 1
}
